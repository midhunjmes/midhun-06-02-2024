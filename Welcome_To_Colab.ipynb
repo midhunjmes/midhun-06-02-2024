{
  "cells": [
    {
      "cell_type": "markdown",
      "metadata": {
        "id": "view-in-github",
        "colab_type": "text"
      },
      "source": [
        "<a href=\"https://colab.research.google.com/github/midhunjmes/midhun-06-02-2024/blob/main/Welcome_To_Colab.ipynb\" target=\"_parent\"><img src=\"https://colab.research.google.com/assets/colab-badge.svg\" alt=\"Open In Colab\"/></a>"
      ]
    },
    {
      "cell_type": "code",
      "source": [
        "import requests\n",
        "from bs4 import BeautifulSoup"
      ],
      "metadata": {
        "id": "BQnM_40aqoAy"
      },
      "execution_count": 2,
      "outputs": []
    },
    {
      "cell_type": "code",
      "source": [
        "url = 'https://en.wikipedia.org/wiki/UST_(company)'\n",
        "\n",
        "response = requests.get(url)\n",
        "if response.status_code == 200:\n",
        "    soup = BeautifulSoup(response.content, 'html.parser')\n",
        "\n",
        "    content_div = soup.find('div', {'id': 'mw-content-text'})\n",
        "\n",
        "    paragraphs = content_div.find_all(['p'])\n",
        "\n",
        "    article_text = '\\n'.join([para.get_text() for para in paragraphs])\n",
        "\n",
        "    print(article_text)\n",
        "else:\n",
        "    print(f\"Failed to retrieve the webpage. Status code: {response.status_code}\")\n",
        ""
      ],
      "metadata": {
        "colab": {
          "base_uri": "https://localhost:8080/"
        },
        "id": "bTTHyWgysdT5",
        "outputId": "03e6f676-64a4-4e2f-a560-fe72dbeba258"
      },
      "execution_count": 26,
      "outputs": [
        {
          "output_type": "stream",
          "name": "stdout",
          "text": [
            "\n",
            "\n",
            "UST, formerly known as UST Global, is a provider of digital technology and transformation, information technology and services, headquartered in Aliso Viejo, California, United States.[7] Stephen Ross founded UST in 1998 in Laguna Hills.[8] The company has offices in the Americas, EMEA, APAC, and India.[9][10][11]\n",
            "\n",
            "In June 2018, Temasek, Singapore’s sovereign wealth fund, invested US$250 million in UST, giving UST a US$1 billion-plus valuation.[12]\n",
            "\n",
            "UST offers services in many areas including: \n",
            "\n",
            "digital transformation,[13] cybersecurity, data analytics, data engineering, technology and digital consulting, supply chain management, cloud infrastructure, developer productivity, quality engineering, IT talent sourcing, innovation as a service, legacy modernization, human-centered design, AMS, semiconductor engineering, IOT engineering, intelligent process automation, artificial intelligence, machine learning, and technology strategy, intelligent automation and BPaaS.[14] Examples of specific services include:\n",
            "\n",
            "In 2020, UST released UST CloudDesk and UST MultiCloud Manager.[15] UST CloudDesk enables enterprises to move workloads between different cloud platforms. UST MultiCloud Manager, an IT-as-a-service platform, allows users to have a zero-touch, single-pane view of their entire IT environment.[16]\n",
            "\n",
            "UST offers development and operational services such as data management, analysis, and automation for DevSecOps, and digital and cloud transformation.[17] This includes PACE, a product used for implementing and optimizing cloud-native DevOps.[18]\n",
            "\n",
            "In July 2020, UST invested in Smart Software Testing Solutions (SSTS) Inc. to incorporate intelligent testing and digital validation for its Software Validation and Test Automation.[19] SSTS's platforms allow testers to perform manual and automation testing on more than 5000 device-browser combinations.[19]\n",
            "\n",
            "In July 2020, UST's company CyberProof became an official member of the Microsoft Intelligent Security Association.[20] CyberProof monitors security alerts and suspicious events collected from internal and external customer data sources and detects threats in cloud and on-premises infrastructure threats.[21]\n",
            "\n",
            "UST invests and acquires companies.[22]\n",
            "\n",
            "UST is based in Orange County, California and has offices in more than 25 countries. It is based in the following regions: the Americas, EMEA, APAC, and India.[10][11]\n",
            "\n",
            "UST has started its expansion plans in India in the capital city of Kerala, Thiruvananthapuram, with the construction of its own campus, near Technopark.[49]  The campus is spread over 36 acres (150,000 m2).  The campus will also feature a 12-acre (49,000 m2) waterbody channeling through the various blocks of the campus.\n",
            "\n",
            "CyberProof is a fully owned subsidiary of UST and founded in 2017 in Tel Aviv, Israel.[50]\n",
            "\n",
            "The company is a security services company.\n",
            "\n",
            "In January 2018, UST acquired BISEC, a cybersecurity company, for 5.8 million Dollars and integrated the technology into CyberProof.[51]\n",
            "\n",
            "CyberProof is headquartered in Aliso Viejo, California, United States and has regional offices in London, United Kingdom; Trivandrum; Singapore and Barcelona, Spain. As of 2021, the company has approximately 500 employees worldwide. Although it has several offices, its operations have been primarily based in Tel Aviv, Israel, since its founding.\n",
            "\n",
            "Tony Velleca is the chief executive officer of CyberProof and is a chief information security officer at UST. Yuval Wollman is President of CyberProof and is responsible for the company's Israel-based Development & Operations.\n",
            "\n",
            "UST HealthProof is the healthcare technology division of UST. In 2023, UST HealthProof acquired healthcare technology company Advantasure.[52]\n",
            "\n",
            "In early 2008, California arbitrators ruled that US Technology Resources, LLC must pay Stephen J. Ross US $7.5 million for his founding interest in the company. The company had disputed the extent of Ross's actual contributions. The arbitration award was then confirmed by the Los Angeles Superior Court and judgment entered in Ross' favor.[53]\n",
            "\n"
          ]
        }
      ]
    },
    {
      "cell_type": "code",
      "source": [
        "from transformers import pipeline"
      ],
      "metadata": {
        "id": "JaBGZZt05uGT"
      },
      "execution_count": 27,
      "outputs": []
    },
    {
      "cell_type": "code",
      "source": [
        "def summarize_text(text, max_chunk_size=1024):\n",
        "    summarizer = pipeline(\"summarization\", model=\"facebook/bart-large-cnn\")\n",
        "\n",
        "    # Split text into chunks of max_chunk_size\n",
        "    chunks = [text[i:i+max_chunk_size] for i in range(0, len(text), max_chunk_size)]\n",
        "    summaries = summarizer(chunks, max_length=83, min_length=33, do_sample=False)\n",
        "\n",
        "    # Combine all summaries\n",
        "    full_summary = \" \".join([summary['summary_text'] for summary in summaries])\n",
        "    return full_summary"
      ],
      "metadata": {
        "id": "M_o3pPTo7V4r"
      },
      "execution_count": 51,
      "outputs": []
    },
    {
      "cell_type": "code",
      "source": [
        "a=summarize_text(article_text)\n",
        "print(a)"
      ],
      "metadata": {
        "id": "-lPmngCi7kIX",
        "outputId": "c15d5eee-d260-4058-fce3-1a9d06e89689",
        "colab": {
          "base_uri": "https://localhost:8080/"
        }
      },
      "execution_count": 55,
      "outputs": [
        {
          "output_type": "stream",
          "name": "stderr",
          "text": [
            "Device set to use cuda:0\n"
          ]
        },
        {
          "output_type": "stream",
          "name": "stdout",
          "text": [
            "UST, formerly known as UST Global, is a provider of digital technology and transformation, information technology and services, headquartered in Aliso Viejo, California, United States. Stephen Ross founded UST in 1998 in Laguna Hills. In June 2018, Temasek, Singapore’s sovereign wealth fund, invested US$250 million in UST, giving UST a US$1 billion UST offers development and operational services such as data management, analysis, and automation for DevSecOps, and digital and cloud transformation. In 2020, UST released UST CloudDesk and UST MultiCloud Manager. UST is based in Orange County, California and has offices in more than 25 countries. It has started its expansion plans in India in the capital city of Kerala, Thiruvananthapuram, with the construction of its own campus, near Technopark. UST HealthProof is the healthcare technology division of UST. In 2023, UST HealthProof acquired healthcare technology company Advantasure. UST has regional offices in London, United Kingdom; Trivandrum; Singapore and Barcelona, Spain.\n"
          ]
        }
      ]
    },
    {
      "cell_type": "code",
      "source": [
        "print(len(a.split()))"
      ],
      "metadata": {
        "id": "7C_cp1HI8bul",
        "outputId": "74b8f82b-1a64-460a-e28f-4e339de0b6a1",
        "colab": {
          "base_uri": "https://localhost:8080/"
        }
      },
      "execution_count": 56,
      "outputs": [
        {
          "output_type": "stream",
          "name": "stdout",
          "text": [
            "152\n"
          ]
        }
      ]
    },
    {
      "cell_type": "code",
      "source": [],
      "metadata": {
        "id": "tnh9hk2ICuoT"
      },
      "execution_count": null,
      "outputs": []
    }
  ],
  "metadata": {
    "colab": {
      "name": "Welcome To Colab",
      "toc_visible": true,
      "provenance": [],
      "gpuType": "T4",
      "include_colab_link": true
    },
    "kernelspec": {
      "display_name": "Python 3",
      "name": "python3"
    },
    "accelerator": "GPU"
  },
  "nbformat": 4,
  "nbformat_minor": 0
}